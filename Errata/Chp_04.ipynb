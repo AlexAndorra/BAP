{
 "cells": [
  {
   "cell_type": "markdown",
   "metadata": {},
   "source": [
    "### Page 102\n",
    "\n",
    "The formula\n",
    "\n",
    "$\\alpha = \\alpha' + \\beta' x$\n",
    "\n",
    "Should be:\n",
    "\n",
    "$\\alpha = \\alpha' - \\beta' x$\n",
    "\n",
    "\n",
    "I want to add a clarification to the book. \n",
    "\n",
    "We center $x$ by doing:\n",
    "\n",
    "$$x' = x - \\bar x$$\n",
    "\n",
    "Then we can write the linear model as:\n",
    "\n",
    "$$y = \\alpha' + \\beta' x' + \\epsilon$$\n",
    "\n",
    "if we replace $x'$ with $x - \\bar x$, we get:\n",
    "\n",
    "$$y = \\alpha' + \\beta' (x - \\bar x) + \\epsilon$$\n",
    "\n",
    "reordering we get:\n",
    "\n",
    "$$y = \\alpha' - \\beta' \\bar x + \\beta' x + \\epsilon$$\n",
    "\n",
    "Notice that this last equation is equivalent to \n",
    "\n",
    "$$y = \\alpha + \\beta x + \\epsilon$$\n",
    "\n",
    "where:\n",
    "\n",
    "$$\\alpha = \\alpha' - \\beta' \\bar x$$\n",
    "\n",
    "and\n",
    "\n",
    "$$\\beta = \\beta' $$"
   ]
  },
  {
   "cell_type": "code",
   "execution_count": null,
   "metadata": {
    "collapsed": true
   },
   "outputs": [],
   "source": []
  }
 ],
 "metadata": {
  "kernelspec": {
   "display_name": "Python 3",
   "language": "python",
   "name": "python3"
  },
  "language_info": {
   "codemirror_mode": {
    "name": "ipython",
    "version": 3
   },
   "file_extension": ".py",
   "mimetype": "text/x-python",
   "name": "python",
   "nbconvert_exporter": "python",
   "pygments_lexer": "ipython3",
   "version": "3.5.2"
  }
 },
 "nbformat": 4,
 "nbformat_minor": 2
}
