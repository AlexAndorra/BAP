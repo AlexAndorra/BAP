{
 "cells": [
  {
   "cell_type": "markdown",
   "metadata": {},
   "source": [
    "# Chapter 3 Exercises"
   ]
  },
  {
   "cell_type": "code",
   "execution_count": 1,
   "metadata": {},
   "outputs": [],
   "source": [
    "import matplotlib.pyplot as plt\n",
    "import numpy as np\n",
    "import pandas as pd\n",
    "from scipy import stats\n",
    "import arviz as az"
   ]
  },
  {
   "cell_type": "code",
   "execution_count": 2,
   "metadata": {},
   "outputs": [],
   "source": [
    "az.style.use('arviz-darkgrid')"
   ]
  },
  {
   "cell_type": "markdown",
   "metadata": {},
   "source": [
    "## Question 1\n",
    "***"
   ]
  },
  {
   "cell_type": "markdown",
   "metadata": {},
   "source": [
    "The priors in this model are\n",
    "\n",
    "\\begin{eqnarray}\n",
    "\\mu \\text{~} Normal(0,10) \\newline\n",
    "\\sigma \\text{~} \\left|Normal(0,25) \\right|\n",
    "\\end{eqnarray}\n",
    "\n",
    "\n",
    "The likelihood in our model is  \n",
    "$$ Normal(\\mu, \\sigma)$$\n",
    "\n",
    "And the posterior is\n",
    "\n",
    "$$ y_i $$"
   ]
  },
  {
   "cell_type": "markdown",
   "metadata": {},
   "source": [
    "## Question 2\n",
    "***"
   ]
  },
  {
   "cell_type": "markdown",
   "metadata": {},
   "source": [
    "There are two parameters in this model, $\\mu$ and $\\sigma$"
   ]
  },
  {
   "cell_type": "markdown",
   "metadata": {},
   "source": [
    "## Question 3\n",
    "***"
   ]
  },
  {
   "cell_type": "markdown",
   "metadata": {},
   "source": [
    "Without expanding the denominator\n",
    "\n",
    "$$ p(\\mu, \\sigma | y) = \\frac{\\Pi_i Normal(y| \\mu, \\sigma) Normal(\\mu|0,10) |Normal(\\sigma|0,25)|}{p(y)}  $$\n",
    "\n",
    "Expanding the denominator\n",
    "$$ p(\\mu, \\sigma | y) = \\frac{\\Pi_i Normal(y| \\mu, \\sigma) Normal(\\mu|0,10) |Normal(\\sigma|0,25)|}{\\int \\int \\Pi_i Normal(y| \\mu, \\sigma) Normal(\\mu|0,10) |Normal(\\sigma|0,25)| d\\mu d\\sigma} $$"
   ]
  }
 ],
 "metadata": {
  "kernelspec": {
   "display_name": "Python 3",
   "language": "python",
   "name": "python3"
  },
  "language_info": {
   "codemirror_mode": {
    "name": "ipython",
    "version": 3
   },
   "file_extension": ".py",
   "mimetype": "text/x-python",
   "name": "python",
   "nbconvert_exporter": "python",
   "pygments_lexer": "ipython3",
   "version": "3.6.8"
  }
 },
 "nbformat": 4,
 "nbformat_minor": 2
}
