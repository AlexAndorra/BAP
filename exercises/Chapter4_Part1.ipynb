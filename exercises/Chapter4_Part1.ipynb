{
 "cells": [
  {
   "cell_type": "markdown",
   "metadata": {},
   "source": [
    "# Chapter 4 Exercises 1-5"
   ]
  },
  {
   "cell_type": "code",
   "execution_count": 22,
   "metadata": {},
   "outputs": [],
   "source": [
    "import matplotlib.pyplot as plt\n",
    "import numpy as np\n",
    "import pandas as pd\n",
    "from scipy import stats\n",
    "from scipy.special import expit as logistic\n",
    "import arviz as az\n",
    "import pymc3 as pm\n",
    "np.random.seed(123)"
   ]
  },
  {
   "cell_type": "markdown",
   "metadata": {},
   "source": [
    "## Exercise 1\n",
    "***"
   ]
  },
  {
   "cell_type": "code",
   "execution_count": 23,
   "metadata": {},
   "outputs": [],
   "source": [
    "iris = pd.read_csv('../code/data/iris.csv')\n",
    "df = iris.query(\"species == ('setosa', 'versicolor')\")\n",
    "y_0 = pd.Categorical(df['species']).codes\n",
    "\n",
    "varnames = ['α', 'β', 'bd']\n"
   ]
  },
  {
   "cell_type": "code",
   "execution_count": 24,
   "metadata": {},
   "outputs": [
    {
     "name": "stderr",
     "output_type": "stream",
     "text": [
      "Auto-assigning NUTS sampler...\n",
      "Initializing NUTS using jitter+adapt_diag...\n",
      "Multiprocess sampling (2 chains in 2 jobs)\n",
      "NUTS: [β, α]\n",
      "Sampling 2 chains: 100%|██████████| 3000/3000 [00:02<00:00, 1391.68draws/s]\n"
     ]
    },
    {
     "name": "stdout",
     "output_type": "stream",
     "text": [
      "Feature sepal_length summary\n",
      "    mean    sd  mc error  hpd 2.5%  hpd 97.5%   eff_n  r_hat\n",
      "α   0.31  0.32      0.00     -0.32       0.96  1731.0    1.0\n",
      "β   5.40  1.00      0.02      3.55       7.43  1531.0    1.0\n",
      "bd -0.06  0.06      0.00     -0.17       0.06  1788.0    1.0\n"
     ]
    },
    {
     "name": "stderr",
     "output_type": "stream",
     "text": [
      "Auto-assigning NUTS sampler...\n",
      "Initializing NUTS using jitter+adapt_diag...\n",
      "Multiprocess sampling (2 chains in 2 jobs)\n",
      "NUTS: [β, α]\n",
      "Sampling 2 chains: 100%|██████████| 3000/3000 [00:02<00:00, 1170.33draws/s]\n",
      "There was 1 divergence after tuning. Increase `target_accept` or reparameterize.\n",
      "The number of effective samples is smaller than 25% for some parameters.\n"
     ]
    },
    {
     "name": "stdout",
     "output_type": "stream",
     "text": [
      "Feature petal_width summary\n",
      "     mean    sd  mc error  hpd 2.5%  hpd 97.5%  eff_n  r_hat\n",
      "α    0.61  1.83      0.06     -2.77       4.65  645.0    1.0\n",
      "β   18.41  5.61      0.15      8.65      29.26  446.0    1.0\n",
      "bd  -0.04  0.09      0.00     -0.22       0.13  814.0    1.0\n"
     ]
    },
    {
     "name": "stderr",
     "output_type": "stream",
     "text": [
      "Auto-assigning NUTS sampler...\n",
      "Initializing NUTS using jitter+adapt_diag...\n",
      "Multiprocess sampling (2 chains in 2 jobs)\n",
      "NUTS: [β, α]\n",
      "Sampling 2 chains: 100%|██████████| 3000/3000 [00:02<00:00, 1104.36draws/s]\n",
      "There were 22 divergences after tuning. Increase `target_accept` or reparameterize.\n",
      "There were 36 divergences after tuning. Increase `target_accept` or reparameterize.\n",
      "The number of effective samples is smaller than 25% for some parameters.\n"
     ]
    },
    {
     "name": "stdout",
     "output_type": "stream",
     "text": [
      "Feature petal_length summary\n",
      "     mean    sd  mc error  hpd 2.5%  hpd 97.5%  eff_n  r_hat\n",
      "α    3.37  4.10      0.15     -3.53      12.31  582.0    1.0\n",
      "β   12.98  5.64      0.08      3.76      23.78  371.0    1.0\n",
      "bd  -0.28  0.28      0.01     -0.81       0.22  704.0    1.0\n"
     ]
    }
   ],
   "source": [
    "for feature in [\"sepal_length\", \"petal_width\", \"petal_length\"]:\n",
    "\n",
    "    x_n = feature\n",
    "    x_0 = df[x_n].values\n",
    "    x_c = x_0 - x_0.mean()\n",
    "\n",
    "    with pm.Model() as model_0:\n",
    "        α = pm.Normal('α', mu=0, sd=10)\n",
    "        β = pm.Normal('β', mu=0, sd=10)\n",
    "\n",
    "        μ = α + pm.math.dot(x_c, β)    \n",
    "        θ = pm.Deterministic('θ', pm.math.sigmoid(μ))\n",
    "        bd = pm.Deterministic('bd', -α/β)\n",
    "\n",
    "        yl = pm.Bernoulli('yl', p=θ, observed=y_0)\n",
    "\n",
    "        trace_0 = pm.sample(1000)\n",
    "        print(\"Feature {} summary\".format(feature))\n",
    "        print(az.summary(trace_0, varnames, credible_interval=.95))"
   ]
  },
  {
   "cell_type": "markdown",
   "metadata": {},
   "source": [
    "From the results we can see that bd variable HPD is the smallest with sepal length, and increases with petal_width, and petal_length."
   ]
  },
  {
   "cell_type": "markdown",
   "metadata": {},
   "source": [
    "## Exercise 2\n",
    "***"
   ]
  },
  {
   "cell_type": "code",
   "execution_count": 25,
   "metadata": {},
   "outputs": [
    {
     "name": "stderr",
     "output_type": "stream",
     "text": [
      "Auto-assigning NUTS sampler...\n",
      "Initializing NUTS using jitter+adapt_diag...\n",
      "Multiprocess sampling (2 chains in 2 jobs)\n",
      "NUTS: [β, α]\n",
      "Sampling 2 chains: 100%|██████████| 3000/3000 [00:06<00:00, 442.69draws/s]\n",
      "There were 660 divergences after tuning. Increase `target_accept` or reparameterize.\n",
      "The acceptance probability does not match the target. It is 0.5723934984887481, but should be close to 0.8. Try to increase the number of tuning steps.\n",
      "There were 172 divergences after tuning. Increase `target_accept` or reparameterize.\n",
      "The estimated number of effective samples is smaller than 200 for some parameters.\n"
     ]
    },
    {
     "name": "stdout",
     "output_type": "stream",
     "text": [
      "Feature petal_length nu 1 summary\n",
      "      mean      sd  mc error  hpd 2.5%  hpd 97.5%  eff_n  r_hat\n",
      "α     4.95   13.41      1.15    -10.62      27.76  126.0   1.00\n",
      "β   137.73  450.93     81.03      3.59     598.05   41.0   1.03\n",
      "bd   -0.17    0.25      0.04     -0.73       0.17   49.0   1.01\n"
     ]
    },
    {
     "name": "stderr",
     "output_type": "stream",
     "text": [
      "Auto-assigning NUTS sampler...\n",
      "Initializing NUTS using jitter+adapt_diag...\n",
      "Multiprocess sampling (2 chains in 2 jobs)\n",
      "NUTS: [β, α]\n",
      "Sampling 2 chains: 100%|██████████| 3000/3000 [00:03<00:00, 879.48draws/s] \n",
      "There were 20 divergences after tuning. Increase `target_accept` or reparameterize.\n",
      "There were 37 divergences after tuning. Increase `target_accept` or reparameterize.\n",
      "The number of effective samples is smaller than 25% for some parameters.\n"
     ]
    },
    {
     "name": "stdout",
     "output_type": "stream",
     "text": [
      "Feature petal_length nu 10 summary\n",
      "     mean    sd  mc error  hpd 2.5%  hpd 97.5%  eff_n  r_hat\n",
      "α    4.03  4.56      0.14     -3.52      13.52  434.0    1.0\n",
      "β   14.50  6.94      0.40      3.71      27.74  334.0    1.0\n",
      "bd  -0.29  0.28      0.01     -0.83       0.18  543.0    1.0\n"
     ]
    },
    {
     "name": "stderr",
     "output_type": "stream",
     "text": [
      "Auto-assigning NUTS sampler...\n",
      "Initializing NUTS using jitter+adapt_diag...\n",
      "Multiprocess sampling (2 chains in 2 jobs)\n",
      "NUTS: [β, α]\n",
      "Sampling 2 chains: 100%|██████████| 3000/3000 [00:02<00:00, 1032.88draws/s]\n",
      "There were 55 divergences after tuning. Increase `target_accept` or reparameterize.\n",
      "There were 48 divergences after tuning. Increase `target_accept` or reparameterize.\n",
      "The number of effective samples is smaller than 25% for some parameters.\n"
     ]
    },
    {
     "name": "stdout",
     "output_type": "stream",
     "text": [
      "Feature petal_length nu 30 summary\n",
      "     mean    sd  mc error  hpd 2.5%  hpd 97.5%  eff_n  r_hat\n",
      "α    3.94  4.30      0.20     -2.79      13.68  327.0   1.00\n",
      "β   14.01  5.98      0.38      4.00      25.55  369.0   1.01\n",
      "bd  -0.28  0.28      0.01     -0.83       0.19  329.0   1.00\n"
     ]
    }
   ],
   "source": [
    "for nu in [1,10, 30]:\n",
    "\n",
    "    x_0 = df[\"petal_length\"].values\n",
    "    x_c = x_0 - x_0.mean()\n",
    "\n",
    "    with pm.Model() as model_0:\n",
    "        # Priors have been changed\n",
    "        α = pm.StudentT('α', nu=nu, mu=0, sd=10)\n",
    "        β = pm.StudentT('β', nu=nu, mu=0, sd=10)\n",
    "\n",
    "\n",
    "        μ = α + pm.math.dot(x_c, β)    \n",
    "        θ = pm.Deterministic('θ', pm.math.sigmoid(μ))\n",
    "        bd = pm.Deterministic('bd', -α/β)\n",
    "\n",
    "        yl = pm.Bernoulli('yl', p=θ, observed=y_0)\n",
    "\n",
    "        trace_0 = pm.sample(1000)\n",
    "        print(\"Feature {} nu {} summary\".format(feature, nu))\n",
    "        print(az.summary(trace_0, varnames, credible_interval=.95))"
   ]
  },
  {
   "cell_type": "markdown",
   "metadata": {},
   "source": [
    "## Exercise 3\n",
    "***"
   ]
  },
  {
   "cell_type": "code",
   "execution_count": 26,
   "metadata": {},
   "outputs": [
    {
     "name": "stderr",
     "output_type": "stream",
     "text": [
      "Auto-assigning NUTS sampler...\n",
      "Initializing NUTS using jitter+adapt_diag...\n",
      "Multiprocess sampling (2 chains in 2 jobs)\n",
      "NUTS: [sd, β, α]\n",
      "Sampling 2 chains: 100%|██████████| 3000/3000 [00:02<00:00, 1139.65draws/s]\n",
      "100%|██████████| 2000/2000 [00:01<00:00, 1088.84it/s]\n"
     ]
    },
    {
     "name": "stdout",
     "output_type": "stream",
     "text": [
      "    mean    sd  mc error  hpd 2.5%  hpd 97.5%   eff_n  r_hat\n",
      "α   0.50  0.04       0.0      0.43       0.57  3075.0    1.0\n",
      "β   0.57  0.05       0.0      0.46       0.67  3047.0    1.0\n",
      "sd  0.35  0.02       0.0      0.30       0.40  2519.0    1.0\n"
     ]
    }
   ],
   "source": [
    "x_n = \"sepal_length\"\n",
    "x_0 = df[x_n].values\n",
    "x_c = x_0 - x_0.mean()\n",
    "\n",
    "with pm.Model() as model_0:\n",
    "    α = pm.Normal('α', mu=0, sd=10)\n",
    "    β = pm.Normal('β', mu=0, sd=10)\n",
    "    sd = pm.HalfNormal(\"sd\", sd=1)\n",
    "\n",
    "    μ = α + pm.math.dot(x_c, β)\n",
    "\n",
    "    yl = pm.Normal('yl', mu=μ, sd=sd, observed=y_0)\n",
    "    trace_linear = pm.sample(1000)\n",
    "    posterior_predictive_linear = pm.sample_posterior_predictive(trace_linear)\n",
    "    print(az.summary(trace_linear, credible_interval=.95))"
   ]
  },
  {
   "cell_type": "code",
   "execution_count": 27,
   "metadata": {},
   "outputs": [
    {
     "data": {
      "text/plain": [
       "array([<matplotlib.axes._subplots.AxesSubplot object at 0x1c28401ba8>],\n",
       "      dtype=object)"
      ]
     },
     "execution_count": 27,
     "metadata": {},
     "output_type": "execute_result"
    },
    {
     "data": {
      "image/png": "[encoded data removed]",
      "text/plain": [
       "<Figure size 432x288 with 1 Axes>"
      ]
     },
     "metadata": {
      "needs_background": "light"
     },
     "output_type": "display_data"
    }
   ],
   "source": [
    "data = az.from_pymc3(trace=trace_linear, posterior_predictive=posterior_predictive_linear)\n",
    "az.plot_ppc(data)"
   ]
  },
  {
   "cell_type": "markdown",
   "metadata": {},
   "source": [
    "From the posterior predictive check this model is not very useful. We are trying to estimate the probability of a species given a sepal_length, but a number of the posterior predictive check values are below 0 and above 1. As is such the result cannot be interpreted as probability."
   ]
  },
  {
   "cell_type": "markdown",
   "metadata": {},
   "source": [
    "## Exercise 4\n",
    "***"
   ]
  },
  {
   "cell_type": "code",
   "execution_count": 28,
   "metadata": {},
   "outputs": [],
   "source": [
    "df = iris.query(\"species == ('setosa', 'versicolor')\") \n",
    "y_1 = pd.Categorical(df['species']).codes \n",
    "x_n = ['sepal_length', 'sepal_width'] \n",
    "x_1 = df[x_n].values"
   ]
  },
  {
   "cell_type": "code",
   "execution_count": 29,
   "metadata": {},
   "outputs": [
    {
     "name": "stderr",
     "output_type": "stream",
     "text": [
      "Auto-assigning NUTS sampler...\n",
      "Initializing NUTS using jitter+adapt_diag...\n",
      "Multiprocess sampling (2 chains in 2 jobs)\n",
      "NUTS: [β, α]\n",
      "Sampling 2 chains: 100%|██████████| 5000/5000 [00:17<00:00, 287.70draws/s]\n",
      "The acceptance probability does not match the target. It is 0.8848631965762076, but should be close to 0.8. Try to increase the number of tuning steps.\n"
     ]
    }
   ],
   "source": [
    "with pm.Model() as model_1: \n",
    "    α = pm.Normal('α', mu=0, sd=10) \n",
    "    β = pm.Normal('β', mu=0, sd=2, shape=len(x_n)) \n",
    "     \n",
    "    μ = α + pm.math.dot(x_1, β) \n",
    "    θ = pm.Deterministic('θ', 1 / (1 + pm.math.exp(-μ))) \n",
    "    bd = pm.Deterministic('bd', -α/β[1] - β[0]/β[1] * x_1[:,0])\n",
    "     \n",
    "    yl = pm.Bernoulli('yl', p=θ, observed=y_1) \n",
    " \n",
    "    trace_1 = pm.sample(2000)"
   ]
  },
  {
   "cell_type": "code",
   "execution_count": 30,
   "metadata": {},
   "outputs": [
    {
     "data": {
      "text/html": [
       "<div>\n",
       "<style scoped>\n",
       "    .dataframe tbody tr th:only-of-type {\n",
       "        vertical-align: middle;\n",
       "    }\n",
       "\n",
       "    .dataframe tbody tr th {\n",
       "        vertical-align: top;\n",
       "    }\n",
       "\n",
       "    .dataframe thead th {\n",
       "        text-align: right;\n",
       "    }\n",
       "</style>\n",
       "<table border=\"1\" class=\"dataframe\">\n",
       "  <thead>\n",
       "    <tr style=\"text-align: right;\">\n",
       "      <th></th>\n",
       "      <th>mean</th>\n",
       "      <th>sd</th>\n",
       "      <th>mc error</th>\n",
       "      <th>hpd 3%</th>\n",
       "      <th>hpd 97%</th>\n",
       "      <th>eff_n</th>\n",
       "      <th>r_hat</th>\n",
       "    </tr>\n",
       "  </thead>\n",
       "  <tbody>\n",
       "    <tr>\n",
       "      <th>α</th>\n",
       "      <td>-9.24</td>\n",
       "      <td>4.59</td>\n",
       "      <td>0.11</td>\n",
       "      <td>-17.84</td>\n",
       "      <td>-0.47</td>\n",
       "      <td>1504.0</td>\n",
       "      <td>1.0</td>\n",
       "    </tr>\n",
       "    <tr>\n",
       "      <th>β[0]</th>\n",
       "      <td>4.71</td>\n",
       "      <td>0.88</td>\n",
       "      <td>0.03</td>\n",
       "      <td>3.03</td>\n",
       "      <td>6.34</td>\n",
       "      <td>1370.0</td>\n",
       "      <td>1.0</td>\n",
       "    </tr>\n",
       "    <tr>\n",
       "      <th>β[1]</th>\n",
       "      <td>-5.22</td>\n",
       "      <td>1.01</td>\n",
       "      <td>0.02</td>\n",
       "      <td>-7.25</td>\n",
       "      <td>-3.56</td>\n",
       "      <td>1567.0</td>\n",
       "      <td>1.0</td>\n",
       "    </tr>\n",
       "  </tbody>\n",
       "</table>\n",
       "</div>"
      ],
      "text/plain": [
       "      mean    sd  mc error  hpd 3%  hpd 97%   eff_n  r_hat\n",
       "α    -9.24  4.59      0.11  -17.84    -0.47  1504.0    1.0\n",
       "β[0]  4.71  0.88      0.03    3.03     6.34  1370.0    1.0\n",
       "β[1] -5.22  1.01      0.02   -7.25    -3.56  1567.0    1.0"
      ]
     },
     "execution_count": 30,
     "metadata": {},
     "output_type": "execute_result"
    }
   ],
   "source": [
    "varnames = ['α', 'β'] \n",
    "summary = az.summary(trace_1, var_names=varnames)\n",
    "summary"
   ]
  },
  {
   "cell_type": "code",
   "execution_count": 31,
   "metadata": {},
   "outputs": [
    {
     "data": {
      "text/plain": [
       "(-5.219999999999999, -0.02387657278569843)"
      ]
     },
     "execution_count": 31,
     "metadata": {},
     "output_type": "execute_result"
    }
   ],
   "source": [
    "x_1 = 4.5  # sepal_length\n",
    "x_2 = 3   # sepal_width \n",
    "\n",
    "log_odds_versicolor_i = (summary['mean'] * [1, x_1, x_2]).sum()\n",
    "probability_versicolor_i = logistic(log_odds_versicolor_i)\n",
    "\n",
    "\n",
    "log_odds_versicolor_f = (summary['mean'] * [1, x_1, x_2+1]).sum()\n",
    "probability_versicolor_f = logistic(log_odds_versicolor_f)\n",
    "\n",
    "log_odds_versicolor_f - log_odds_versicolor_i, probability_versicolor_f - probability_versicolor_i"
   ]
  },
  {
   "cell_type": "markdown",
   "metadata": {},
   "source": [
    "The value of -5.19 is consistent across the summary and our \"hand check\". A log odds value of -5.1 means that as $\\beta_1$ increases, the probability that the species is versicolor decreases, or equivalently as sepal_width increases, the probability the flower is versicolor decreases.\n",
    "\n",
    "We can verify with a quick plot"
   ]
  },
  {
   "cell_type": "code",
   "execution_count": 32,
   "metadata": {},
   "outputs": [
    {
     "data": {
      "text/plain": [
       "<matplotlib.axes._subplots.AxesSubplot at 0x1c2afee748>"
      ]
     },
     "execution_count": 32,
     "metadata": {},
     "output_type": "execute_result"
    },
    {
     "data": {
      "image/png": "[encoded data removed]",
      "text/plain": [
       "<Figure size 432x288 with 1 Axes>"
      ]
     },
     "metadata": {
      "needs_background": "light"
     },
     "output_type": "display_data"
    }
   ],
   "source": [
    "colors = df[\"species\"].replace({'setosa':\"blue\", 'versicolor':\"green\"})\n",
    "df.plot(kind=\"scatter\", x=\"sepal_length\", y=\"sepal_width\", c=colors)"
   ]
  },
  {
   "cell_type": "markdown",
   "metadata": {},
   "source": [
    "As sepal with increases from 3 to 4 we get farther from the green dots, reducing the probability that the flower were seeing is of the virginica species."
   ]
  },
  {
   "cell_type": "markdown",
   "metadata": {},
   "source": [
    "# Question 5\n",
    "***"
   ]
  },
  {
   "cell_type": "code",
   "execution_count": 36,
   "metadata": {},
   "outputs": [
    {
     "name": "stdout",
     "output_type": "stream",
     "text": [
      "sepal_length_i 4.5, sepal_length_f 5.5\n",
      "    Log Odds Change 4.709999999999999\n",
      "    Probability Change 0.7080309252764029\n",
      "    \n",
      "sepal_length_i 5.5, sepal_length_f 6.5\n",
      "    Log Odds Change 4.710000000000001\n",
      "    Probability Change 0.26467417655124303\n",
      "    \n"
     ]
    }
   ],
   "source": [
    "# Values for sepal length are directly added in the log_odds_line\n",
    "x_1 = 4.5  # sepal_length\n",
    "x_2 = 3   # sepal_width \n",
    "\n",
    "for i in (0,1):\n",
    "    log_odds_versicolor_i = (summary['mean'] * [1, x_1+i, x_2]).sum()\n",
    "    probability_versicolor_i = logistic(log_odds_versicolor_i)\n",
    "\n",
    "\n",
    "    log_odds_versicolor_f = (summary['mean'] * [1, x_1+i+1, x_2]).sum()\n",
    "    probability_versicolor_f = logistic(log_odds_versicolor_f)\n",
    "\n",
    "    print(f\"\"\"sepal_length_i {x_1+i}, sepal_length_f {x_1+i+1}\n",
    "    Log Odds Change {log_odds_versicolor_f - log_odds_versicolor_i}\n",
    "    Probability Change {probability_versicolor_f - probability_versicolor_i}\n",
    "    \"\"\")"
   ]
  },
  {
   "cell_type": "markdown",
   "metadata": {},
   "source": [
    "From from the calculation above we see that while the coefficient stays constant, as it should in linear regression, the probability change is not as large from 5.5 to 6.5 as it is from 4.5 to 5.5. Looking at the graphic this intuitively makes sense as well. In the region of sepal length of 4.5 to 5.5, it's hard to differentiate among the species. However when moving from a sepal length of 5.5 to 6.5, only the virginica species has sepal lengths in that range."
   ]
  }
 ],
 "metadata": {
  "kernelspec": {
   "display_name": "Python 3",
   "language": "python",
   "name": "python3"
  },
  "language_info": {
   "codemirror_mode": {
    "name": "ipython",
    "version": 3
   },
   "file_extension": ".py",
   "mimetype": "text/x-python",
   "name": "python",
   "nbconvert_exporter": "python",
   "pygments_lexer": "ipython3",
   "version": "3.6.8"
  }
 },
 "nbformat": 4,
 "nbformat_minor": 2
}
