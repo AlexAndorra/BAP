{
 "cells": [
  {
   "cell_type": "markdown",
   "metadata": {},
   "source": [
    "# Chapter 4 Exercises 1-5"
   ]
  },
  {
   "cell_type": "code",
   "execution_count": 1,
   "metadata": {},
   "outputs": [
    {
     "name": "stderr",
     "output_type": "stream",
     "text": [
      "WARNING (theano.configdefaults): install mkl with `conda install mkl-service`: No module named 'mkl'\n"
     ]
    }
   ],
   "source": [
    "import matplotlib.pyplot as plt\n",
    "import numpy as np\n",
    "import pandas as pd\n",
    "from scipy import stats\n",
    "from scipy.special import expit as logistic\n",
    "import arviz as az\n",
    "import pymc3 as pm\n",
    "np.random.seed(123)"
   ]
  },
  {
   "cell_type": "markdown",
   "metadata": {},
   "source": [
    "## Exercise 1\n",
    "***"
   ]
  },
  {
   "cell_type": "code",
   "execution_count": 3,
   "metadata": {},
   "outputs": [],
   "source": [
    "iris = pd.read_csv('../code/data/iris.csv')\n",
    "df = iris.query(\"species == ('setosa', 'versicolor')\")\n",
    "y_0 = pd.Categorical(df['species']).codes\n",
    "\n",
    "varnames = ['α', 'β', 'bd']\n"
   ]
  },
  {
   "cell_type": "code",
   "execution_count": 9,
   "metadata": {},
   "outputs": [
    {
     "name": "stderr",
     "output_type": "stream",
     "text": [
      "Auto-assigning NUTS sampler...\n",
      "Initializing NUTS using jitter+adapt_diag...\n",
      "Multiprocess sampling (2 chains in 2 jobs)\n",
      "NUTS: [β, α]\n",
      "Sampling 2 chains: 100%|██████████| 3000/3000 [00:01<00:00, 1550.70draws/s]\n"
     ]
    },
    {
     "name": "stdout",
     "output_type": "stream",
     "text": [
      "Feature sepal_length summary\n",
      "    mean    sd  mc error  hpd 2.5%  hpd 97.5%   eff_n  r_hat\n",
      "α   0.31  0.33      0.00     -0.31       0.95  1810.0    1.0\n",
      "β   5.44  1.01      0.03      3.52       7.43  1235.0    1.0\n",
      "bd -0.06  0.06      0.00     -0.17       0.07  1965.0    1.0\n"
     ]
    },
    {
     "name": "stderr",
     "output_type": "stream",
     "text": [
      "Auto-assigning NUTS sampler...\n",
      "Initializing NUTS using jitter+adapt_diag...\n",
      "Multiprocess sampling (2 chains in 2 jobs)\n",
      "NUTS: [β, α]\n",
      "Sampling 2 chains: 100%|██████████| 3000/3000 [00:02<00:00, 1202.43draws/s]\n",
      "There were 3 divergences after tuning. Increase `target_accept` or reparameterize.\n"
     ]
    },
    {
     "name": "stdout",
     "output_type": "stream",
     "text": [
      "Feature petal_width summary\n",
      "     mean    sd  mc error  hpd 2.5%  hpd 97.5%  eff_n  r_hat\n",
      "α    0.44  1.66      0.03     -2.99       3.67  750.0    1.0\n",
      "β   17.51  5.16      0.18      8.96      28.14  711.0    1.0\n",
      "bd  -0.03  0.09      0.00     -0.19       0.14  910.0    1.0\n"
     ]
    },
    {
     "name": "stderr",
     "output_type": "stream",
     "text": [
      "Auto-assigning NUTS sampler...\n",
      "Initializing NUTS using jitter+adapt_diag...\n",
      "Multiprocess sampling (2 chains in 2 jobs)\n",
      "NUTS: [β, α]\n",
      "Sampling 2 chains: 100%|██████████| 3000/3000 [00:02<00:00, 1119.97draws/s]\n",
      "There were 17 divergences after tuning. Increase `target_accept` or reparameterize.\n",
      "There were 41 divergences after tuning. Increase `target_accept` or reparameterize.\n",
      "The number of effective samples is smaller than 25% for some parameters.\n"
     ]
    },
    {
     "name": "stdout",
     "output_type": "stream",
     "text": [
      "Feature petal_length summary\n",
      "     mean    sd  mc error  hpd 2.5%  hpd 97.5%  eff_n  r_hat\n",
      "α    3.77  4.04      0.09     -2.53      12.16  472.0    1.0\n",
      "β   12.67  5.03      0.18      4.39      22.47  416.0    1.0\n",
      "bd  -0.30  0.28      0.00     -0.84       0.19  618.0    1.0\n"
     ]
    }
   ],
   "source": [
    "for feature in [\"sepal_length\", \"petal_width\", \"petal_length\"]:\n",
    "\n",
    "    x_n = feature\n",
    "    x_0 = df[x_n].values\n",
    "    x_c = x_0 - x_0.mean()\n",
    "\n",
    "    with pm.Model() as model_0:\n",
    "        α = pm.Normal('α', mu=0, sd=10)\n",
    "        β = pm.Normal('β', mu=0, sd=10)\n",
    "\n",
    "        μ = α + pm.math.dot(x_c, β)    \n",
    "        θ = pm.Deterministic('θ', pm.math.sigmoid(μ))\n",
    "        bd = pm.Deterministic('bd', -α/β)\n",
    "\n",
    "        yl = pm.Bernoulli('yl', p=θ, observed=y_0)\n",
    "\n",
    "        trace_0 = pm.sample(1000)\n",
    "        print(\"Feature {} summary\".format(feature))\n",
    "        print(az.summary(trace_0, varnames, credible_interval=.95))"
   ]
  },
  {
   "cell_type": "markdown",
   "metadata": {},
   "source": [
    "From the results we can see that bd variable HPD is the smallest with sepal length, and increases with petal_width, and petal_length."
   ]
  },
  {
   "cell_type": "markdown",
   "metadata": {},
   "source": [
    "## Exercise 2\n",
    "***"
   ]
  },
  {
   "cell_type": "code",
   "execution_count": 22,
   "metadata": {},
   "outputs": [
    {
     "name": "stderr",
     "output_type": "stream",
     "text": [
      "Auto-assigning NUTS sampler...\n",
      "Initializing NUTS using jitter+adapt_diag...\n",
      "Multiprocess sampling (2 chains in 2 jobs)\n",
      "NUTS: [β, α]\n",
      "Sampling 2 chains: 100%|██████████| 3000/3000 [00:04<00:00, 639.61draws/s] \n",
      "There were 647 divergences after tuning. Increase `target_accept` or reparameterize.\n",
      "The acceptance probability does not match the target. It is 0.5264402598944427, but should be close to 0.8. Try to increase the number of tuning steps.\n",
      "There were 491 divergences after tuning. Increase `target_accept` or reparameterize.\n",
      "The acceptance probability does not match the target. It is 0.7167719576136763, but should be close to 0.8. Try to increase the number of tuning steps.\n",
      "The estimated number of effective samples is smaller than 200 for some parameters.\n"
     ]
    },
    {
     "name": "stdout",
     "output_type": "stream",
     "text": [
      "Feature petal_length nu 1 summary\n",
      "      mean       sd  mc error  hpd 2.5%  hpd 97.5%  eff_n  r_hat\n",
      "α     2.44    10.53      0.49    -13.59      19.49  457.0   1.00\n",
      "β   430.73  1704.98    289.78      4.53    1476.60   27.0   1.04\n",
      "bd   -0.11     0.20      0.02     -0.54       0.20  110.0   1.00\n"
     ]
    },
    {
     "name": "stderr",
     "output_type": "stream",
     "text": [
      "Auto-assigning NUTS sampler...\n",
      "Initializing NUTS using jitter+adapt_diag...\n",
      "Multiprocess sampling (2 chains in 2 jobs)\n",
      "NUTS: [β, α]\n",
      "Sampling 2 chains: 100%|██████████| 3000/3000 [00:02<00:00, 1126.81draws/s]\n",
      "There were 118 divergences after tuning. Increase `target_accept` or reparameterize.\n",
      "The acceptance probability does not match the target. It is 0.6891760014617333, but should be close to 0.8. Try to increase the number of tuning steps.\n",
      "There were 57 divergences after tuning. Increase `target_accept` or reparameterize.\n",
      "The number of effective samples is smaller than 25% for some parameters.\n"
     ]
    },
    {
     "name": "stdout",
     "output_type": "stream",
     "text": [
      "Feature petal_length nu 10 summary\n",
      "     mean    sd  mc error  hpd 2.5%  hpd 97.5%  eff_n  r_hat\n",
      "α    4.01  4.54      0.13     -3.37      13.16  294.0    1.0\n",
      "β   14.59  7.12      0.27      4.17      28.55  391.0    1.0\n",
      "bd  -0.28  0.28      0.01     -0.79       0.21  411.0    1.0\n"
     ]
    },
    {
     "name": "stderr",
     "output_type": "stream",
     "text": [
      "Auto-assigning NUTS sampler...\n",
      "Initializing NUTS using jitter+adapt_diag...\n",
      "Multiprocess sampling (2 chains in 2 jobs)\n",
      "NUTS: [β, α]\n",
      "Sampling 2 chains: 100%|██████████| 3000/3000 [00:03<00:00, 863.92draws/s]\n",
      "There were 33 divergences after tuning. Increase `target_accept` or reparameterize.\n",
      "There were 52 divergences after tuning. Increase `target_accept` or reparameterize.\n",
      "The number of effective samples is smaller than 25% for some parameters.\n"
     ]
    },
    {
     "name": "stdout",
     "output_type": "stream",
     "text": [
      "Feature petal_length nu 30 summary\n",
      "     mean    sd  mc error  hpd 2.5%  hpd 97.5%  eff_n  r_hat\n",
      "α    3.65  4.13      0.28     -3.21      12.31  448.0   1.01\n",
      "β   13.29  5.92      0.33      3.95      25.12  310.0   1.00\n",
      "bd  -0.28  0.28      0.02     -0.80       0.20  542.0   1.01\n"
     ]
    }
   ],
   "source": [
    "for nu in [1,10, 30]:\n",
    "\n",
    "    x_0 = df[\"petal_length\"].values\n",
    "    x_c = x_0 - x_0.mean()\n",
    "\n",
    "    with pm.Model() as model_0:\n",
    "        # Priors have been changed\n",
    "        α = pm.StudentT('α', nu=nu, mu=0, sd=10)\n",
    "        β = pm.StudentT('β', nu=nu, mu=0, sd=10)\n",
    "\n",
    "\n",
    "        μ = α + pm.math.dot(x_c, β)    \n",
    "        θ = pm.Deterministic('θ', pm.math.sigmoid(μ))\n",
    "        bd = pm.Deterministic('bd', -α/β)\n",
    "\n",
    "        yl = pm.Bernoulli('yl', p=θ, observed=y_0)\n",
    "\n",
    "        trace_0 = pm.sample(1000)\n",
    "        print(\"Feature {} nu {} summary\".format(feature, nu))\n",
    "        print(az.summary(trace_0, varnames, credible_interval=.95))"
   ]
  },
  {
   "cell_type": "markdown",
   "metadata": {},
   "source": [
    "## Exercise 3\n",
    "***"
   ]
  },
  {
   "cell_type": "code",
   "execution_count": 25,
   "metadata": {},
   "outputs": [
    {
     "name": "stderr",
     "output_type": "stream",
     "text": [
      "Auto-assigning NUTS sampler...\n",
      "Initializing NUTS using jitter+adapt_diag...\n",
      "Multiprocess sampling (2 chains in 2 jobs)\n",
      "NUTS: [sd, β, α]\n",
      "Sampling 2 chains: 100%|██████████| 3000/3000 [00:02<00:00, 1411.73draws/s]\n",
      "100%|██████████| 2000/2000 [00:01<00:00, 1210.15it/s]\n"
     ]
    },
    {
     "name": "stdout",
     "output_type": "stream",
     "text": [
      "    mean    sd  mc error  hpd 2.5%  hpd 97.5%   eff_n  r_hat\n",
      "α   0.50  0.04       0.0      0.43       0.57  2390.0    1.0\n",
      "β   0.57  0.05       0.0      0.46       0.67  2639.0    1.0\n",
      "sd  0.35  0.03       0.0      0.30       0.40  2558.0    1.0\n"
     ]
    }
   ],
   "source": [
    "x_n = \"sepal_length\"\n",
    "x_0 = df[x_n].values\n",
    "x_c = x_0 - x_0.mean()\n",
    "\n",
    "with pm.Model() as model_0:\n",
    "    α = pm.Normal('α', mu=0, sd=10)\n",
    "    β = pm.Normal('β', mu=0, sd=10)\n",
    "    sd = pm.HalfNormal(\"sd\", sd=1)\n",
    "\n",
    "    μ = α + pm.math.dot(x_c, β)\n",
    "\n",
    "    yl = pm.Normal('yl', mu=μ, sd=sd, observed=y_0)\n",
    "    trace_linear = pm.sample(1000)\n",
    "    posterior_predictive_linear = pm.sample_posterior_predictive(trace_linear)\n",
    "    print(az.summary(trace_linear, credible_interval=.95))"
   ]
  },
  {
   "cell_type": "code",
   "execution_count": 27,
   "metadata": {},
   "outputs": [
    {
     "data": {
      "text/plain": [
       "array([<matplotlib.axes._subplots.AxesSubplot object at 0x1c16220dd8>],\n",
       "      dtype=object)"
      ]
     },
     "execution_count": 27,
     "metadata": {},
     "output_type": "execute_result"
    },
    {
     "data": {
      "image/png": "[encoded data removed]",
      "text/plain": [
       "<Figure size 432x288 with 1 Axes>"
      ]
     },
     "metadata": {
      "needs_background": "light"
     },
     "output_type": "display_data"
    }
   ],
   "source": [
    "data = az.from_pymc3(trace=trace_linear, posterior_predictive=posterior_predictive_linear)\n",
    "az.plot_ppc(data)"
   ]
  },
  {
   "cell_type": "markdown",
   "metadata": {},
   "source": [
    "From the posterior predictive check this model is not very useful. We are trying to estimate the probability of a species given a sepal_length, but a number of the posterior predictive check values are below 0 and above 1. As is such the result cannot be interpreted as probability."
   ]
  },
  {
   "cell_type": "markdown",
   "metadata": {},
   "source": [
    "## Exercise 4\n",
    "***"
   ]
  },
  {
   "cell_type": "code",
   "execution_count": 28,
   "metadata": {},
   "outputs": [],
   "source": [
    "df = iris.query(\"species == ('setosa', 'versicolor')\") \n",
    "y_1 = pd.Categorical(df['species']).codes \n",
    "x_n = ['sepal_length', 'sepal_width'] \n",
    "x_1 = df[x_n].values"
   ]
  },
  {
   "cell_type": "code",
   "execution_count": 29,
   "metadata": {},
   "outputs": [
    {
     "name": "stderr",
     "output_type": "stream",
     "text": [
      "Auto-assigning NUTS sampler...\n",
      "Initializing NUTS using jitter+adapt_diag...\n",
      "Multiprocess sampling (2 chains in 2 jobs)\n",
      "NUTS: [β, α]\n",
      "Sampling 2 chains: 100%|██████████| 5000/5000 [00:14<00:00, 338.99draws/s]\n"
     ]
    }
   ],
   "source": [
    "with pm.Model() as model_1: \n",
    "    α = pm.Normal('α', mu=0, sd=10) \n",
    "    β = pm.Normal('β', mu=0, sd=2, shape=len(x_n)) \n",
    "     \n",
    "    μ = α + pm.math.dot(x_1, β) \n",
    "    θ = pm.Deterministic('θ', 1 / (1 + pm.math.exp(-μ))) \n",
    "    bd = pm.Deterministic('bd', -α/β[1] - β[0]/β[1] * x_1[:,0])\n",
    "     \n",
    "    yl = pm.Bernoulli('yl', p=θ, observed=y_1) \n",
    " \n",
    "    trace_1 = pm.sample(2000)"
   ]
  },
  {
   "cell_type": "code",
   "execution_count": 30,
   "metadata": {},
   "outputs": [
    {
     "data": {
      "text/html": [
       "<div>\n",
       "<style scoped>\n",
       "    .dataframe tbody tr th:only-of-type {\n",
       "        vertical-align: middle;\n",
       "    }\n",
       "\n",
       "    .dataframe tbody tr th {\n",
       "        vertical-align: top;\n",
       "    }\n",
       "\n",
       "    .dataframe thead th {\n",
       "        text-align: right;\n",
       "    }\n",
       "</style>\n",
       "<table border=\"1\" class=\"dataframe\">\n",
       "  <thead>\n",
       "    <tr style=\"text-align: right;\">\n",
       "      <th></th>\n",
       "      <th>mean</th>\n",
       "      <th>sd</th>\n",
       "      <th>mc error</th>\n",
       "      <th>hpd 3%</th>\n",
       "      <th>hpd 97%</th>\n",
       "      <th>eff_n</th>\n",
       "      <th>r_hat</th>\n",
       "    </tr>\n",
       "  </thead>\n",
       "  <tbody>\n",
       "    <tr>\n",
       "      <th>α</th>\n",
       "      <td>-9.22</td>\n",
       "      <td>4.60</td>\n",
       "      <td>0.13</td>\n",
       "      <td>-17.97</td>\n",
       "      <td>-0.52</td>\n",
       "      <td>1496.0</td>\n",
       "      <td>1.0</td>\n",
       "    </tr>\n",
       "    <tr>\n",
       "      <th>β[0]</th>\n",
       "      <td>4.69</td>\n",
       "      <td>0.88</td>\n",
       "      <td>0.02</td>\n",
       "      <td>3.02</td>\n",
       "      <td>6.29</td>\n",
       "      <td>1480.0</td>\n",
       "      <td>1.0</td>\n",
       "    </tr>\n",
       "    <tr>\n",
       "      <th>β[1]</th>\n",
       "      <td>-5.19</td>\n",
       "      <td>1.00</td>\n",
       "      <td>0.01</td>\n",
       "      <td>-7.03</td>\n",
       "      <td>-3.27</td>\n",
       "      <td>1809.0</td>\n",
       "      <td>1.0</td>\n",
       "    </tr>\n",
       "  </tbody>\n",
       "</table>\n",
       "</div>"
      ],
      "text/plain": [
       "      mean    sd  mc error  hpd 3%  hpd 97%   eff_n  r_hat\n",
       "α    -9.22  4.60      0.13  -17.97    -0.52  1496.0    1.0\n",
       "β[0]  4.69  0.88      0.02    3.02     6.29  1480.0    1.0\n",
       "β[1] -5.19  1.00      0.01   -7.03    -3.27  1809.0    1.0"
      ]
     },
     "execution_count": 30,
     "metadata": {},
     "output_type": "execute_result"
    }
   ],
   "source": [
    "varnames = ['α', 'β'] \n",
    "summary = az.summary(trace_1, var_names=varnames)\n",
    "summary"
   ]
  },
  {
   "cell_type": "code",
   "execution_count": 34,
   "metadata": {},
   "outputs": [
    {
     "data": {
      "text/plain": [
       "(-5.190000000000001, -0.024342905359618146)"
      ]
     },
     "execution_count": 34,
     "metadata": {},
     "output_type": "execute_result"
    }
   ],
   "source": [
    "x_1 = 4.5  # sepal_length\n",
    "x_2 = 3   # sepal_width \n",
    "\n",
    "log_odds_versicolor_i = (summary['mean'] * [1, x_1, x_2]).sum()\n",
    "probability_versicolor_i = logistic(log_odds_versicolor_i)\n",
    "\n",
    "\n",
    "log_odds_versicolor_f = (summary['mean'] * [1, x_1, x_2+1]).sum()\n",
    "probability_versicolor_f = logistic(log_odds_versicolor_f)\n",
    "\n",
    "log_odds_versicolor_f - log_odds_versicolor_i, probability_versicolor_f - probability_versicolor_i"
   ]
  },
  {
   "cell_type": "markdown",
   "metadata": {},
   "source": [
    "The value of -5.19 is consistent across the summary and our \"hand check\""
   ]
  },
  {
   "cell_type": "markdown",
   "metadata": {},
   "source": [
    "# Question 5\n",
    "***"
   ]
  },
  {
   "cell_type": "code",
   "execution_count": 35,
   "metadata": {},
   "outputs": [
    {
     "data": {
      "text/plain": [
       "(4.689999999999998, 0.26460803108218767)"
      ]
     },
     "execution_count": 35,
     "metadata": {},
     "output_type": "execute_result"
    }
   ],
   "source": [
    "# Values for sepal length are directly added in the log_odds_line\n",
    "x_2 = 3   # sepal_width \n",
    "\n",
    "log_odds_versicolor_i = (summary['mean'] * [1, 5.5, x_2]).sum()\n",
    "probability_versicolor_i = logistic(log_odds_versicolor_i)\n",
    "\n",
    "\n",
    "log_odds_versicolor_f = (summary['mean'] * [1, 6.5, x_2]).sum()\n",
    "probability_versicolor_f = logistic(log_odds_versicolor_f)\n",
    "\n",
    "log_odds_versicolor_f - log_odds_versicolor_i, probability_versicolor_f - probability_versicolor_i"
   ]
  }
 ],
 "metadata": {
  "kernelspec": {
   "display_name": "Python 3",
   "language": "python",
   "name": "python3"
  },
  "language_info": {
   "codemirror_mode": {
    "name": "ipython",
    "version": 3
   },
   "file_extension": ".py",
   "mimetype": "text/x-python",
   "name": "python",
   "nbconvert_exporter": "python",
   "pygments_lexer": "ipython3",
   "version": "3.6.8"
  }
 },
 "nbformat": 4,
 "nbformat_minor": 2
}
