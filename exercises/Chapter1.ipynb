{
 "cells": [
  {
   "cell_type": "markdown",
   "metadata": {},
   "source": [
    "# Chapter 1 Exercises"
   ]
  },
  {
   "cell_type": "markdown",
   "metadata": {},
   "source": [
    "## Question 1\n",
    "***"
   ]
  },
  {
   "cell_type": "markdown",
   "metadata": {},
   "source": [
    "There are two statements that correspond to the *Probability of being sunny given that it is the 9th of July of 1816*\n",
    "1. p(sunny | 9th of July of 1816)\n",
    "2. p(sunny| 9th of July of 1816) / p(9th of July of 1816)\n",
    "\n",
    "For the second one recall the product rule (Equation 1.1)\n",
    "\n",
    "$$ p(A,B) = p(A|B)p(B)$$\n",
    "\n",
    "A rearrangement of this formula yields\n",
    "\n",
    "$$ p(A|B) = \\frac{p(A,B)}{p(B)}$$\n",
    "Replace A and B with \"sunny\" and \"9th of July of 1816\" to get the equivament formulation"
   ]
  },
  {
   "cell_type": "markdown",
   "metadata": {},
   "source": [
    "## Question 2\n",
    "***"
   ]
  },
  {
   "cell_type": "markdown",
   "metadata": {},
   "source": [
    "Let's assume there are 6 billion humans in the galaxy and there is only 1 Pope, Pope Francis, at time of writing. If a human is randomly picked the chances of that human being the pope are 1 in 6 billion. In mathematical notation\n",
    "\n",
    "$$ p(Pope | Human) = \\frac{1}{6,000,000} $$\n",
    "\n",
    "Additionally I am very confident that the Pope is human, so much so that I make this statement. *Given a pope, I am 100% certain they are human*. Written in math\n",
    "$$ p(human | Pope) = 1$$\n",
    "\n",
    "\n",
    "In animated show Futurama it turns out there are actually two popes, the human pope and a reptile space pope. Since the space pope is the same it doesn't change the human population so we still have\n",
    "\n",
    "$$ p(Pope | Human) = \\frac{1}{6,000,000} $$\n",
    "\n",
    "but, since there are two popes *The probability of a human, given a pope* is now 1/2, written as \n",
    "\n",
    "$$ p(human | Pope) = .5$$"
   ]
  },
  {
   "cell_type": "markdown",
   "metadata": {},
   "source": [
    "## Question 3\n",
    "***"
   ]
  },
  {
   "cell_type": "markdown",
   "metadata": {},
   "source": [
    "The priors in thie model are\n",
    "\n",
    "$$ \\mu \\text{~} Normal(0,10)$$\n",
    "$$ \\sigma \\text{~} HalfNormal(25)$$\n",
    "\n",
    "\n",
    "The likelihood in our model is\n",
    "$$ y_i \\text{~} Normal(\\mu, \\sigma)$$"
   ]
  },
  {
   "cell_type": "markdown",
   "metadata": {},
   "source": [
    "## Question 4\n",
    "***"
   ]
  },
  {
   "cell_type": "markdown",
   "metadata": {},
   "source": [
    "In the previous exquestion there are two parameters in the posterior $\\mu$ and $\\sigma$. In our coin flipping model we had one parameter $\\theta$.\n",
    "\n",
    "It may seem confusing that we also had *alpha* and *beta* as well, but remember, these were not parameters we were trying ot estimate, or in other words we really don't care about alpha and beta, they were just values for our prior distribution. What we really wanted was $\\theta$ to determine the fairness of the coin."
   ]
  },
  {
   "cell_type": "markdown",
   "metadata": {},
   "source": [
    "## Question 5\n",
    "***"
   ]
  },
  {
   "cell_type": "markdown",
   "metadata": {},
   "source": [
    "**Need verification that this one is right**\n",
    "$$ p(\\mu, \\sigma | y) = \\frac{p(y| \\mu, \\sigma)p(\\mu)p(\\sigma)}{p(y)} $$"
   ]
  },
  {
   "cell_type": "markdown",
   "metadata": {},
   "source": [
    "## Question 6\n",
    "***"
   ]
  },
  {
   "cell_type": "markdown",
   "metadata": {},
   "source": [
    "Formalizing some of the statements into mathematical notatoin\n",
    "\n",
    "The probability of picking a coin at random, and getting either the biased or the fair coin is the same  \n",
    "\n",
    "$$p(Biased) = p(Fair) = .5$$\n",
    "\n",
    "The probabiity of getting a heads with a biased coin is 1,\n",
    "$$p(Heads | Biased) = 1$$\n",
    "\n",
    "The probability of getting a heads with the fair coin is .5\n",
    "$$p(Heads | Biased) = 1$$\n",
    "\n",
    "Lastly remember that after picking a coin at **random** we have observed a heads. Therefore we can use Bayes rule to calculate the probability we picked the biased coin\n",
    "\n",
    "$$ p(Biased | Heads) = \\frac{p(Heads | Biased) p(Biased)}{p(Heads)} $$\n",
    "\n",
    "To solve this by hand we need to rewrite the denominator using the *Rule of Total Probability*\n",
    "\n",
    "$$ p(Biased | Heads) = \\frac{p(Heads | Biased) p(Biased)}{p(Heads|Fair)*p(Fair) + p(Heads|Biased)*p(Biased)} $$\n",
    "\n",
    "We can use Python to do the math for us"
   ]
  },
  {
   "cell_type": "code",
   "execution_count": 6,
   "metadata": {},
   "outputs": [
    {
     "data": {
      "text/plain": [
       "0.6666666666666666"
      ]
     },
     "execution_count": 6,
     "metadata": {},
     "output_type": "execute_result"
    }
   ],
   "source": [
    "(1 * .5)/(.5 * .5 + 1* .5)"
   ]
  }
 ],
 "metadata": {
  "kernelspec": {
   "display_name": "Python 3",
   "language": "python",
   "name": "python3"
  },
  "language_info": {
   "codemirror_mode": {
    "name": "ipython",
    "version": 3
   },
   "file_extension": ".py",
   "mimetype": "text/x-python",
   "name": "python",
   "nbconvert_exporter": "python",
   "pygments_lexer": "ipython3",
   "version": "3.5.6"
  }
 },
 "nbformat": 4,
 "nbformat_minor": 2
}
