{
 "cells": [
  {
   "cell_type": "code",
   "execution_count": null,
   "metadata": {},
   "outputs": [],
   "source": [
    "% matplotlib inline\n",
    "import pymc3 as pm\n",
    "import numpy as np\n",
    "import scipy.stats as stats\n",
    "import pandas as pd\n",
    "import theano.tensor as tt\n",
    "import matplotlib.pyplot as plt\n",
    "import arviz as az\n",
    "az.style.use('arviz-darkgrid')"
   ]
  },
  {
   "cell_type": "code",
   "execution_count": null,
   "metadata": {},
   "outputs": [],
   "source": [
    "cs = pd.read_csv('datos/chemical_shifts_theo_exp.csv')\n",
    "cs_exp = cs['exp']\n",
    "az.kdeplot(cs_exp)\n",
    "plt.hist(cs_exp, density=True, bins=30, alpha=0.3)\n",
    "plt.yticks([]);\n",
    "#plt.title('Figure 6.2')\n",
    "plt.savefig('B11197_06_02.png')"
   ]
  },
  {
   "cell_type": "code",
   "execution_count": null,
   "metadata": {},
   "outputs": [],
   "source": [
    "clusters = 2\n",
    "with pm.Model() as model_mg:\n",
    "    p = pm.Dirichlet('p', a=np.ones(clusters))\n",
    "    means = pm.Normal('means', mu=cs_exp.mean(), sd=10, shape=clusters)\n",
    "    sd = pm.HalfNormal('sd', sd=10)\n",
    "    y = pm.NormalMixture('y', w=p, mu=means, sd=sd, observed=cs_exp)\n",
    "    trace_mg = pm.sample(random_seed=123)"
   ]
  },
  {
   "cell_type": "code",
   "execution_count": null,
   "metadata": {},
   "outputs": [],
   "source": [
    "varnames = ['means', 'p']\n",
    "az.traceplot(trace_mg, varnames)\n",
    "plt.title('Figure 6.6')\n",
    "plt.savefig('B11197_06_06.png')"
   ]
  },
  {
   "cell_type": "code",
   "execution_count": null,
   "metadata": {},
   "outputs": [],
   "source": [
    "az.summary(trace_mg, varnames)"
   ]
  },
  {
   "cell_type": "code",
   "execution_count": null,
   "metadata": {},
   "outputs": [],
   "source": [
    "clusters = 2\n",
    "with pm.Model() as model_mgp:\n",
    "    p = pm.Dirichlet('p', a=np.ones(clusters))\n",
    "    means = pm.Normal('means', mu=np.array([.9, 1]) * cs_exp.mean(), sd=10, shape=clusters)\n",
    "    sd = pm.HalfNormal('sd', sd=10)\n",
    "    order_means = pm.Potential('order_means', tt.switch(means[1]-means[0] < 0, -np.inf, 0))\n",
    "    y = pm.NormalMixture('y', w=p, mu=means, sd=sd, observed=cs_exp)\n",
    "    trace_mgp = pm.sample(1000, random_seed=123)"
   ]
  },
  {
   "cell_type": "code",
   "execution_count": null,
   "metadata": {},
   "outputs": [],
   "source": [
    "# además del potencial es posible usar la siguiente transformación para \n",
    "# transform=pm.distributions.transforms.ordered"
   ]
  },
  {
   "cell_type": "code",
   "execution_count": null,
   "metadata": {},
   "outputs": [],
   "source": [
    "varnames = ['means', 'p']\n",
    "az.traceplot(trace_mgp, varnames)\n",
    "plt.title('Figure 6.7')\n",
    "plt.savefig('B11197_06_07.png')"
   ]
  },
  {
   "cell_type": "code",
   "execution_count": null,
   "metadata": {},
   "outputs": [],
   "source": [
    "az.summary(trace_mgp)"
   ]
  },
  {
   "cell_type": "markdown",
   "metadata": {},
   "source": [
    "## How to choose K"
   ]
  },
  {
   "cell_type": "code",
   "execution_count": null,
   "metadata": {},
   "outputs": [],
   "source": [
    "clusters = [3, 4, 5, 6]\n",
    "\n",
    "#clusters = [3, 6, 10, 15]\n",
    "\n",
    "models = []\n",
    "traces = []\n",
    "for cluster in clusters:\n",
    "    with pm.Model() as model:\n",
    "        p = pm.Dirichlet('p', a=np.ones(cluster))\n",
    "        means = pm.Normal('means', mu=np.linspace(0.75, 1.1, cluster) * cs_exp.mean(), sd=10, shape=cluster)\n",
    "        sd = pm.HalfNormal('sd', sd=10)\n",
    "        ordered = pm.Potential('ordered',\n",
    "                               np.sum([tt.switch(means[i+1]-means[i] < 0, -np.inf, 0) for i in range(cluster-1)]))\n",
    "        y = pm.NormalMixture('y', w=p, mu=means, sd=sd, observed=cs_exp)\n",
    "        trace = pm.sample(2000, random_seed=123)\n",
    "        traces.append(trace)\n",
    "        models.append(model)"
   ]
  },
  {
   "cell_type": "code",
   "execution_count": null,
   "metadata": {},
   "outputs": [],
   "source": [
    "np.random.seed(42)\n",
    "_, ax = plt.subplots(2, 2, figsize=(11, 8))\n",
    " \n",
    "ax = np.ravel(ax)\n",
    "x = np.linspace(cs_exp.min(), cs_exp.max(), 200)\n",
    "for idx, trace_x in enumerate(traces):\n",
    "    x_ = np.array([x] * clusters[idx]).T\n",
    " \n",
    "    for i in range(50):\n",
    "        i_ = np.random.randint(0, len(trace_x))\n",
    "        means_y = trace_x['means'][i_]\n",
    "        p_y = trace_x['p'][i_]\n",
    "        sd = trace_x['sd'][i_]\n",
    "        dist = stats.norm(means_y, sd)\n",
    "        ax[idx].plot(x, np.sum(dist.pdf(x_) * p_y, 1), 'C0', alpha=0.1)\n",
    " \n",
    "    means_y = trace_x['means'].mean(0)\n",
    "    p_y = trace_x['p'].mean(0)\n",
    "    sd = trace_x['sd'].mean()\n",
    "    dist = stats.norm(means_y, sd)\n",
    "    ax[idx].plot(x, np.sum(dist.pdf(x_) * p_y, 1), 'C0', lw=2)\n",
    "    ax[idx].plot(x, dist.pdf(x_) * p_y, 'k--', alpha=0.7)\n",
    "         \n",
    "    az.kdeplot(cs_exp, plot_kwargs={'linewidth':2, 'color':'k'}, ax=ax[idx])\n",
    "    ax[idx].set_title('K = {}'.format(clusters[idx]))\n",
    "    ax[idx].set_yticks([])\n",
    "    ax[idx].set_xlabel('x')\n",
    "plt.tight_layout()\n",
    "plt.savefig('B11197_06_08.png')"
   ]
  },
  {
   "cell_type": "code",
   "execution_count": null,
   "metadata": {},
   "outputs": [],
   "source": [
    "ppc_lala = [pm.sample_ppc(traces[i], 1000, models[i]) for i in range(4)]"
   ]
  },
  {
   "cell_type": "code",
   "execution_count": null,
   "metadata": {},
   "outputs": [],
   "source": [
    "fig, ax = plt.subplots(2, 2, figsize=(10, 6), sharex=True)\n",
    "ax = np.ravel(ax)\n",
    "def iqr(x, a=0):\n",
    "    return np.subtract(*np.percentile(x, [75, 25], axis=a))\n",
    "\n",
    "T_obs = iqr(cs_exp)\n",
    "for idx, d_sim in enumerate(ppc_lala):\n",
    "    T_sim = iqr(d_sim['y'][:100].T, 1)\n",
    "    p_value = np.mean(T_sim >= T_obs)\n",
    "    az.kdeplot(T_sim, ax=ax[idx])\n",
    "    ax[idx].axvline(T_obs, 0, 1, color='k', ls='--')\n",
    "    ax[idx].set_title(f'K = {clusters[idx]} \\n p-value {p_value:.2f}')\n",
    "    ax[idx].set_yticks([])\n",
    "plt.tight_layout()\n",
    "plt.savefig('B11197_06_09.png')"
   ]
  },
  {
   "cell_type": "code",
   "execution_count": null,
   "metadata": {},
   "outputs": [],
   "source": [
    "comp = pm.compare(dict(zip(models, traces)), method='BB-pseudo-BMA')\n",
    "comp"
   ]
  },
  {
   "cell_type": "code",
   "execution_count": null,
   "metadata": {},
   "outputs": [],
   "source": [
    "pm.compareplot(comp);"
   ]
  },
  {
   "cell_type": "markdown",
   "metadata": {},
   "source": [
    "## Non-finite mixture model"
   ]
  },
  {
   "cell_type": "code",
   "execution_count": null,
   "metadata": {},
   "outputs": [],
   "source": [
    "np.random.seed(42)\n",
    "def stick_breaking_truncated(α, H, K):\n",
    "    \"\"\"\n",
    "    Truncated stick-breaking process view of a DP\n",
    "    \n",
    "    Parameters\n",
    "    ----------\n",
    "    α : float\n",
    "        concentration parameter\n",
    "    H : scipy distribution\n",
    "        Base distribution\n",
    "    K : int\n",
    "        number of components\n",
    "    \n",
    "    Returns\n",
    "    -------\n",
    "    locs : array\n",
    "        locations\n",
    "    w : array\n",
    "        probabilities\n",
    "    \"\"\"\n",
    "    βs = stats.beta.rvs(1, α, size=K)\n",
    "    w = np.empty(K)\n",
    "    w = βs * np.concatenate(([1.], np.cumprod(1 - βs[:-1])))\n",
    "    locs = H.rvs(size=K)\n",
    "    return locs, w\n",
    "\n",
    "# Parameters DP\n",
    "K = 500\n",
    "H = stats.norm\n",
    "alphas = [1, 10, 100, 1000]\n",
    "\n",
    "# plot\n",
    "_, ax = plt.subplots(2, 2, sharex=True, figsize=(10, 5))\n",
    "ax = np.ravel(ax)\n",
    "for idx, α in enumerate(alphas):\n",
    "    locs, w = stick_breaking_truncated(α, H, K)\n",
    "    ax[idx].vlines(locs, 0, w, color='C0')\n",
    "    ax[idx].set_title('α = {}'.format(α))\n",
    "\n",
    "plt.tight_layout()"
   ]
  },
  {
   "cell_type": "code",
   "execution_count": null,
   "metadata": {},
   "outputs": [],
   "source": [
    "np.random.seed(42)\n",
    "α = 10\n",
    "H = stats.norm\n",
    "K = 5\n",
    "\n",
    "x = np.linspace(-4, 4, 250)\n",
    "x_ = np.array([x] * K).T\n",
    "locs, w = stick_breaking_truncated(α, H, K)\n",
    "\n",
    "dist = stats.laplace(locs, 0.5)\n",
    "plt.plot(x, np.sum(dist.pdf(x_) * w, 1), 'C0', lw=2)\n",
    "plt.plot(x, dist.pdf(x_) * w, 'k--', alpha=0.7)\n",
    "plt.yticks([]);"
   ]
  },
  {
   "cell_type": "code",
   "execution_count": null,
   "metadata": {},
   "outputs": [],
   "source": [
    "N = cs_exp.shape[0]\n",
    "K = 20\n",
    "\n",
    "def stick_breaking(α):\n",
    "    β = pm.Beta('β', 1., α, shape=K)\n",
    "    w = β * pm.math.concatenate([[1.], tt.extra_ops.cumprod(1. - β)[:-1]])\n",
    "    return w"
   ]
  },
  {
   "cell_type": "code",
   "execution_count": null,
   "metadata": {},
   "outputs": [],
   "source": [
    "with pm.Model() as model:\n",
    "    α = pm.Gamma('α', 1., 1.)\n",
    "    w = pm.Deterministic('w', stick_breaking(α))\n",
    "    means = pm.Normal('means', mu=cs_exp.mean(), sd=10, shape=K)\n",
    "    \n",
    "    sd = pm.HalfNormal('sd', sd=10, shape=K)\n",
    "    obs = pm.NormalMixture('obs', w, means, sd=sd, observed=cs_exp.values)\n",
    "    trace = pm.sample(1000)"
   ]
  },
  {
   "cell_type": "code",
   "execution_count": null,
   "metadata": {},
   "outputs": [],
   "source": [
    "pm.traceplot(trace, varnames=['α']);"
   ]
  },
  {
   "cell_type": "code",
   "execution_count": null,
   "metadata": {},
   "outputs": [],
   "source": [
    "plt.figure(figsize=(8, 6))\n",
    "plot_w = np.arange(K)\n",
    "plt.plot(plot_w, trace['w'].mean(0), 'o-')\n",
    "plt.xticks(plot_w, plot_w+1)\n",
    "plt.xlabel('Component')\n",
    "plt.ylabel('Average weight');"
   ]
  },
  {
   "cell_type": "code",
   "execution_count": null,
   "metadata": {},
   "outputs": [],
   "source": [
    "x_plot = np.linspace(cs.exp.min()-1, cs.exp.max()+1, 200)\n",
    "\n",
    "post_pdf_contribs = stats.norm.pdf(np.atleast_3d(x_plot),\n",
    "                                   trace['means'][:, np.newaxis, :],\n",
    "                                   trace['sd'][:, np.newaxis, :])\n",
    "post_pdfs = (trace['w'][:, np.newaxis, :] * post_pdf_contribs).sum(axis=-1)"
   ]
  },
  {
   "cell_type": "code",
   "execution_count": null,
   "metadata": {},
   "outputs": [],
   "source": [
    "plt.figure(figsize=(8, 6))\n",
    "\n",
    "plt.hist(cs_exp.values, bins=25, density=True, alpha=0.5)\n",
    "plt.plot(x_plot, post_pdfs[::100].T, c='0.5')\n",
    "plt.plot(x_plot, post_pdfs.mean(axis=0), c='k')\n",
    "\n",
    "plt.xlabel('x')\n",
    "plt.yticks([]);"
   ]
  }
 ],
 "metadata": {
  "kernelspec": {
   "display_name": "Python 3",
   "language": "python",
   "name": "python3"
  },
  "language_info": {
   "codemirror_mode": {
    "name": "ipython",
    "version": 3
   },
   "file_extension": ".py",
   "mimetype": "text/x-python",
   "name": "python",
   "nbconvert_exporter": "python",
   "pygments_lexer": "ipython3",
   "version": "3.6.6"
  }
 },
 "nbformat": 4,
 "nbformat_minor": 2
}
